{
  "nbformat": 4,
  "nbformat_minor": 0,
  "metadata": {
    "colab": {
      "private_outputs": true,
      "provenance": [],
      "mount_file_id": "1fDZK4zqtOwTWbAu36S6P1u6JGGv6jKI1",
      "authorship_tag": "ABX9TyP45ofuij7TtBQAK4CwtTyV",
      "include_colab_link": true
    },
    "kernelspec": {
      "name": "python3",
      "display_name": "Python 3"
    },
    "language_info": {
      "name": "python"
    },
    "accelerator": "GPU",
    "gpuClass": "standard"
  },
  "cells": [
    {
      "cell_type": "markdown",
      "metadata": {
        "id": "view-in-github",
        "colab_type": "text"
      },
      "source": [
        "<a href=\"https://colab.research.google.com/github/FaouziSlimi/Project-Cancer-Detection/blob/main/Preprocessing.ipynb\" target=\"_parent\"><img src=\"https://colab.research.google.com/assets/colab-badge.svg\" alt=\"Open In Colab\"/></a>"
      ]
    },
    {
      "cell_type": "code",
      "source": [
        "# Import Module\n",
        "\n",
        "import matplotlib.pyplot as plt\n",
        "import numpy as np\n",
        "from PIL import Image \n",
        "import os \n",
        "import cv2\n",
        "from sklearn.model_selection import train_test_split\n",
        "from sklearn.neural_network import MLPClassifier\n",
        "from keras.models import Sequential\n",
        "from keras.layers import Dense, Dropout, Activation, Flatten, Convolution2D, MaxPooling2D, Conv3D, MaxPool3D\n",
        "from keras import losses\n",
        "from sklearn import datasets\n",
        "from tensorflow.keras.utils import to_categorical \n",
        "from tensorflow.keras.preprocessing.image import load_img\n",
        "from tensorflow.keras.preprocessing.image import img_to_array\n",
        "from keras.preprocessing.image import ImageDataGenerator\n",
        "import tensorflow as tf\n",
        "\n",
        "from tensorflow.keras import layers"
      ],
      "metadata": {
        "id": "W8gI4e7tBX6M"
      },
      "execution_count": null,
      "outputs": []
    },
    {
      "cell_type": "code",
      "execution_count": null,
      "metadata": {
        "id": "ssTp-zsbAQrx"
      },
      "outputs": [],
      "source": [
        "# Import Data Function\n",
        "import pandas as pd\n",
        "\n",
        "def getdata(filepath):\n",
        "  n = 0\n",
        "  imgs =[]\n",
        "  for f in os.listdir(filepath):\n",
        "    if not (f.endswith('pgm')) and n < 4000:\n",
        "              img = np.asarray(Image.open(filepath+f))\n",
        "              \n",
        "              imgs.append(img)\n",
        "              n = n+1\n",
        "    else :\n",
        "       break          \n",
        "  return np.asarray(imgs)"
      ]
    },
    {
      "cell_type": "code",
      "source": [
        "# Get Data Class 0\n",
        "\n",
        "class_0 = getdata(\"/content/drive/MyDrive/Cancer_Detection/Pcam_Test_192/Pcam_Test_192/Class0/\")\n"
      ],
      "metadata": {
        "id": "7xsygkFeD-DP"
      },
      "execution_count": null,
      "outputs": []
    },
    {
      "cell_type": "code",
      "source": [
        "# Import Data Class 1\n",
        "class_1 = getdata(\"/content/drive/MyDrive/Cancer_Detection/Pcam_Test_192/Pcam_Test_192/Class1/\")"
      ],
      "metadata": {
        "id": "ss8uHmw_Xi3K"
      },
      "execution_count": null,
      "outputs": []
    },
    {
      "cell_type": "code",
      "source": [
        "# All Data\n",
        "import numpy as np\n",
        "label_1 = np.ones(5000)\n",
        "label_0 = np.zeros(5000)\n",
        "\n",
        "X =np.concatenate((class_0, class_1))\n",
        "\n",
        "y =np.concatenate((label_0, label_1))\n",
        "X=np.asarray(X)\n",
        "y=np.asarray(y)"
      ],
      "metadata": {
        "id": "7TTHcUPRmmNB"
      },
      "execution_count": null,
      "outputs": []
    },
    {
      "cell_type": "code",
      "source": [
        "# Shuffle Data\n",
        "\n",
        "import numpy as np\n",
        "from sklearn import utils\n",
        "\n",
        "X, y = utils.shuffle(X, y)"
      ],
      "metadata": {
        "id": "c5NEg8bjmwed"
      },
      "execution_count": null,
      "outputs": []
    },
    {
      "cell_type": "code",
      "source": [
        "# Split Data\n",
        "\n",
        "\n",
        "X_train, X_test, y_train, y_test = train_test_split(X, y, test_size=0.1, random_state=1)\n",
        "\n",
        "X_train, X_val, y_train, y_val = train_test_split(X_train, y_train, test_size=0.1111, random_state=1) "
      ],
      "metadata": {
        "id": "c3YY75V-nvfF"
      },
      "execution_count": null,
      "outputs": []
    },
    {
      "cell_type": "code",
      "source": [
        "# Normalisation \n",
        "\n",
        "X_train = X_train/255.\n"
      ],
      "metadata": {
        "id": "-oFrd5W_tcUC"
      },
      "execution_count": null,
      "outputs": []
    },
    {
      "cell_type": "code",
      "source": [
        "X_test  = X_test/255.\n",
        "X_val   = X_al/255."
      ],
      "metadata": {
        "id": "CCuoOgf7wiyY"
      },
      "execution_count": null,
      "outputs": []
    },
    {
      "cell_type": "markdown",
      "source": [
        "## CNN MODEL"
      ],
      "metadata": {
        "id": "umcrXK2EtDOF"
      }
    },
    {
      "cell_type": "code",
      "source": [
        "model = tf.keras.Sequential([\n",
        "tf.keras.layers.Conv2D(32, (3, 3), padding = 'same', activation = 'relu', input_shape = (92, 92, 3)),\n",
        "tf.keras.layers.MaxPooling2D(strides = 2),\n",
        "tf.keras.layers.Conv2D(64, (3, 3), padding = 'same', activation = 'relu'),\n",
        "tf.keras.layers.MaxPooling2D((3, 3),strides = 2),\n",
        "tf.keras.layers.Conv2D(128, (3, 3), padding = 'same', activation = 'relu'),\n",
        "tf.keras.layers.MaxPooling2D((3, 3),strides =2),\n",
        "tf.keras.layers.Conv2D(128, (3, 3), padding = 'same', activation = 'relu'),\n",
        "tf.keras.layers.MaxPooling2D((3, 3),strides =2),\n",
        "tf.keras.layers.Flatten(),\n",
        "tf.keras.layers.Dense(128, activation = 'relu'),\n",
        "tf.keras.layers.Dense(2, activation = 'softmax')\n",
        "])"
      ],
      "metadata": {
        "id": "VTzZR6gAtG0m"
      },
      "execution_count": null,
      "outputs": []
    }
  ]
}